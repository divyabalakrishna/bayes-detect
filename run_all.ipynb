{
 "cells": [
  {
   "cell_type": "code",
   "execution_count": 1,
   "metadata": {
    "collapsed": false
   },
   "outputs": [],
   "source": [
    "import argparse\n",
    "from ConfigParser import SafeConfigParser\n",
    "import os\n",
    "from numpy import *\n",
    "import image_generator.image_generator as ig\n",
    "import model_nest_som.model_nest_som as ns\n",
    "import post_sampling.post_sampling as ps\n",
    "import timeit"
   ]
  },
  {
   "cell_type": "code",
   "execution_count": 2,
   "metadata": {
    "collapsed": true
   },
   "outputs": [],
   "source": [
    "newprefix = 3\n"
   ]
  },
  {
   "cell_type": "code",
   "execution_count": 3,
   "metadata": {
    "collapsed": false
   },
   "outputs": [],
   "source": [
    "#read config.ini template\n",
    "parser = SafeConfigParser()\n",
    "#todo: do something about not using the relative path\n",
    "parser.read(\"config.ini\")\n",
    "\n",
    "#image parameters\n",
    "width = int(parser.get(\"Image\",\"width\"))\n",
    "height = int(parser.get(\"Image\",\"height\"))\n",
    "noise_lvl = float(parser.get(\"Image\", \"noise\"))\n",
    "amp_min = float(parser.get(\"Image\", \"amp_min\"))\n",
    "amp_max = float(parser.get(\"Image\", \"amp_max\"))\n",
    "\n",
    "rad_min = float(parser.get(\"Image\", \"rad_min\"))\n",
    "rad_max = float(parser.get(\"Image\", \"rad_max\"))\n",
    "num_sources = int(parser.get(\"Image\", \"num_items\"))\n",
    "noise = float(parser.get(\"Image\", \"noise\"))\n",
    "\n",
    "prefix = parser.get(\"Misc\", \"prefix\")\n",
    "output_dir = parser.get(\"Misc\", \"location\") + \"/\" + prefix\n",
    "\n",
    "\n"
   ]
  },
  {
   "cell_type": "code",
   "execution_count": 4,
   "metadata": {
    "collapsed": false
   },
   "outputs": [],
   "source": [
    "#change prefix and write\n",
    "parser.set(\"Misc\",\"prefix\",str(newprefix))\n",
    "fileout='config'+'_'+str(newprefix)+'.ini'\n",
    "F=open(fileout,'w')\n",
    "parser.write(F)\n",
    "F.close()"
   ]
  },
  {
   "cell_type": "code",
   "execution_count": 5,
   "metadata": {
    "collapsed": false
   },
   "outputs": [
    {
     "name": "stdout",
     "output_type": "stream",
     "text": [
      "files/3\n"
     ]
    }
   ],
   "source": [
    "ig.run(fileout)"
   ]
  },
  {
   "cell_type": "code",
   "execution_count": 6,
   "metadata": {
    "collapsed": false,
    "scrolled": false
   },
   "outputs": [
    {
     "name": "stdout",
     "output_type": "stream",
     "text": [
      "done with active\n",
      "0\n",
      "500\n",
      "1000\n",
      "1500\n",
      "2000\n",
      "2500\n",
      "3000\n",
      "3500\n",
      "4000\n",
      "4500\n",
      "5000\n",
      "5500\n",
      "6000\n",
      "6500\n",
      "7000\n",
      "7500\n",
      "8000\n",
      "8500\n",
      "9000\n",
      "9500\n",
      "10000\n",
      "10500\n",
      "11000\n",
      "11500\n",
      "12000\n",
      "12500\n",
      "13000\n",
      "13500\n",
      "14000\n",
      "14500\n",
      "15000\n",
      "15500\n",
      "16000\n",
      "16500\n",
      "17000\n",
      "17500\n",
      "18000\n",
      "18500\n",
      "19000\n",
      "19500\n",
      "20000\n",
      "20500\n",
      "21000\n",
      "21500\n",
      "22000\n",
      "22500\n",
      "23000\n",
      "23500\n",
      "24000\n",
      "24500\n",
      "25000\n",
      "25500\n",
      "26000\n",
      "26500\n",
      "27000\n",
      "27500\n",
      "[[  0.00000000e+00   1.00000000e+00]\n",
      " [  5.00000000e+02   1.00000000e+00]\n",
      " [  1.00000000e+03   1.00000000e+00]\n",
      " [  1.50000000e+03   1.00000000e+00]\n",
      " [  2.00000000e+03   1.00000000e+00]\n",
      " [  2.50000000e+03   1.00000000e+00]\n",
      " [  3.00000000e+03   1.00000000e+00]\n",
      " [  3.50000000e+03   1.00000000e+00]\n",
      " [  4.00000000e+03   1.00000000e+00]\n",
      " [  4.50000000e+03   1.00000000e+00]\n",
      " [  5.00000000e+03   1.00000000e+00]\n",
      " [  5.50000000e+03   1.00000000e+00]\n",
      " [  6.00000000e+03   1.00000000e+00]\n",
      " [  6.50000000e+03   1.00000000e+00]\n",
      " [  7.00000000e+03   1.00000000e+00]\n",
      " [  7.50000000e+03   1.00000000e+00]\n",
      " [  8.00000000e+03   1.00000000e+00]\n",
      " [  8.50000000e+03   1.00000000e+00]\n",
      " [  9.00000000e+03   1.00000000e+00]\n",
      " [  9.50000000e+03   1.00000000e+00]\n",
      " [  1.00000000e+04   1.00000000e+00]\n",
      " [  1.05000000e+04   1.00000000e+00]\n",
      " [  1.10000000e+04   1.00000000e+00]\n",
      " [  1.15000000e+04   1.00000000e+00]\n",
      " [  1.20000000e+04   1.00000000e+00]\n",
      " [  1.25000000e+04   1.00000000e+00]\n",
      " [  1.30000000e+04   1.00000000e+00]\n",
      " [  1.35000000e+04   1.00000000e+00]\n",
      " [  1.40000000e+04   1.00000000e+00]\n",
      " [  1.45000000e+04   1.00000000e+00]\n",
      " [  1.50000000e+04   1.00000000e+00]\n",
      " [  1.55000000e+04   1.00000000e+00]\n",
      " [  1.60000000e+04   1.00000000e+00]\n",
      " [  1.65000000e+04   1.00000000e+00]\n",
      " [  1.70000000e+04   1.00000000e+00]\n",
      " [  1.75000000e+04   1.00000000e+00]\n",
      " [  1.80000000e+04   1.00000000e+00]\n",
      " [  1.85000000e+04   1.00000000e+00]\n",
      " [  1.90000000e+04   1.00000000e+00]\n",
      " [  1.95000000e+04   1.00000000e+00]\n",
      " [  2.00000000e+04   1.00000000e+00]\n",
      " [  2.05000000e+04   1.00000000e+00]\n",
      " [  2.10000000e+04   1.00000000e+00]\n",
      " [  2.15000000e+04   1.00000000e+00]\n",
      " [  2.20000000e+04   1.00000000e+00]\n",
      " [  2.25000000e+04   1.00000000e+00]\n",
      " [  2.30000000e+04   1.00000000e+00]\n",
      " [  2.35000000e+04   1.00000000e+00]\n",
      " [  2.40000000e+04   1.00000000e+00]\n",
      " [  2.45000000e+04   1.00000000e+00]\n",
      " [  2.50000000e+04   1.00000000e+00]\n",
      " [  2.55000000e+04   1.00000000e+00]\n",
      " [  2.60000000e+04   1.00000000e+00]\n",
      " [  2.65000000e+04   2.00000000e+00]\n",
      " [  2.70000000e+04   5.00000000e+00]\n",
      " [  2.75000000e+04   4.00000000e+00]\n",
      " [  0.00000000e+00   0.00000000e+00]\n",
      " [  0.00000000e+00   0.00000000e+00]\n",
      " [  0.00000000e+00   0.00000000e+00]\n",
      " [  0.00000000e+00   0.00000000e+00]\n",
      " [  0.00000000e+00   0.00000000e+00]\n",
      " [  0.00000000e+00   0.00000000e+00]\n",
      " [  0.00000000e+00   0.00000000e+00]\n",
      " [  0.00000000e+00   0.00000000e+00]\n",
      " [  0.00000000e+00   0.00000000e+00]\n",
      " [  0.00000000e+00   0.00000000e+00]\n",
      " [  0.00000000e+00   0.00000000e+00]\n",
      " [  0.00000000e+00   0.00000000e+00]\n",
      " [  0.00000000e+00   0.00000000e+00]\n",
      " [  0.00000000e+00   0.00000000e+00]\n",
      " [  0.00000000e+00   0.00000000e+00]\n",
      " [  0.00000000e+00   0.00000000e+00]\n",
      " [  0.00000000e+00   0.00000000e+00]\n",
      " [  0.00000000e+00   0.00000000e+00]\n",
      " [  0.00000000e+00   0.00000000e+00]\n",
      " [  0.00000000e+00   0.00000000e+00]\n",
      " [  0.00000000e+00   0.00000000e+00]\n",
      " [  0.00000000e+00   0.00000000e+00]\n",
      " [  0.00000000e+00   0.00000000e+00]\n",
      " [  0.00000000e+00   0.00000000e+00]\n",
      " [  0.00000000e+00   0.00000000e+00]\n",
      " [  0.00000000e+00   0.00000000e+00]\n",
      " [  0.00000000e+00   0.00000000e+00]\n",
      " [  0.00000000e+00   0.00000000e+00]\n",
      " [  0.00000000e+00   0.00000000e+00]\n",
      " [  0.00000000e+00   0.00000000e+00]\n",
      " [  0.00000000e+00   0.00000000e+00]\n",
      " [  0.00000000e+00   0.00000000e+00]\n",
      " [  0.00000000e+00   0.00000000e+00]\n",
      " [  0.00000000e+00   0.00000000e+00]\n",
      " [  0.00000000e+00   0.00000000e+00]\n",
      " [  0.00000000e+00   0.00000000e+00]\n",
      " [  0.00000000e+00   0.00000000e+00]\n",
      " [  0.00000000e+00   0.00000000e+00]\n",
      " [  0.00000000e+00   0.00000000e+00]\n",
      " [  0.00000000e+00   0.00000000e+00]\n",
      " [  0.00000000e+00   0.00000000e+00]\n",
      " [  0.00000000e+00   0.00000000e+00]\n",
      " [  0.00000000e+00   0.00000000e+00]\n",
      " [  0.00000000e+00   0.00000000e+00]\n",
      " [  0.00000000e+00   0.00000000e+00]]\n",
      "508.985078096 seconds\n",
      "82542 Log evaluations\n",
      "wrote to file: files/3/3_processed_detected.txt\n",
      "wrote to file: files/3/3_all_detected.txt\n"
     ]
    },
    {
     "name": "stderr",
     "output_type": "stream",
     "text": [
      "/usr/lib/pymodules/python2.7/matplotlib/cbook.py:122: MatplotlibDeprecationWarning: The normal aspect was deprecated in version 1.2. Use auto instead.\n",
      "  warnings.warn(message, mplDeprecation, stacklevel=1)\n",
      "/usr/lib/pymodules/python2.7/matplotlib/font_manager.py:1236: UserWarning: findfont: Font family ['sans-serif'] not found. Falling back to Bitstream Vera Sans\n",
      "  (prop.get_family(), self.defaultFamily[fontext]))\n",
      "/usr/lib/pymodules/python2.7/matplotlib/font_manager.py:1246: UserWarning: findfont: Could not match :family=Bitstream Vera Sans:style=normal:variant=normal:weight=normal:stretch=normal:size=12.0. Returning /usr/share/matplotlib/mpl-data/fonts/ttf/cmb10.ttf\n",
      "  UserWarning)\n",
      "/usr/lib/pymodules/python2.7/matplotlib/font_manager.py:1246: UserWarning: findfont: Could not match :family=Bitstream Vera Sans:style=normal:variant=normal:weight=normal:stretch=normal:size=10.0. Returning /usr/share/matplotlib/mpl-data/fonts/ttf/cmb10.ttf\n",
      "  UserWarning)\n"
     ]
    }
   ],
   "source": [
    "ns.run(fileout)\n"
   ]
  },
  {
   "cell_type": "code",
   "execution_count": 5,
   "metadata": {
    "collapsed": false,
    "scrolled": true
   },
   "outputs": [
    {
     "name": "stderr",
     "output_type": "stream",
     "text": [
      "/usr/lib/pymodules/python2.7/matplotlib/font_manager.py:1236: UserWarning: findfont: Font family ['sans-serif'] not found. Falling back to Bitstream Vera Sans\n",
      "  (prop.get_family(), self.defaultFamily[fontext]))\n",
      "/usr/lib/pymodules/python2.7/matplotlib/font_manager.py:1246: UserWarning: findfont: Could not match :family=Bitstream Vera Sans:style=normal:variant=normal:weight=normal:stretch=normal:size=10.0. Returning /usr/share/matplotlib/mpl-data/fonts/ttf/cmb10.ttf\n",
      "  UserWarning)\n",
      "/usr/lib/pymodules/python2.7/matplotlib/font_manager.py:1246: UserWarning: findfont: Could not match :family=Bitstream Vera Sans:style=normal:variant=normal:weight=normal:stretch=normal:size=12.0. Returning /usr/share/matplotlib/mpl-data/fonts/ttf/cmb10.ttf\n",
      "  UserWarning)\n"
     ]
    },
    {
     "name": "stdout",
     "output_type": "stream",
     "text": [
      "33.2641746055 152.614651003 11.6441342599\n",
      "13.0365466109 168.953229696 11.2941622172\n",
      "67.4995168725 74.0695854553 11.0500538692\n",
      "49.816302469 56.3834376787 13.0579458954\n",
      "162.241456636 55.5775279552 11.958585167\n",
      "143.773396642 190.734428567 6.6358044381\n",
      "130.990274249 188.986446052 7.29251803911\n",
      "24.4576362353 107.263409941 3.32067869932\n",
      "42.7268023077 16.1493402308 3.71909369928\n",
      "134.521219667 101.2471975 1.15083804629\n",
      "53.0 61.0 7.96304574447\n",
      "70.0 80.0 4.89866305601\n",
      "137.0 193.0 5.96312278235\n",
      "33.0 153.0 7.67117533829\n",
      "68.0 70.0 6.11115110771\n",
      "42.0 14.0 4.09226497011\n",
      "162.0 56.0 9.1789930994\n",
      "2.0 171.0 9.1800916824\n",
      "44.0 43.0 4.74463054524\n",
      "22.0 152.0 1.86731694465\n",
      "1\n",
      "2\n",
      "3\n",
      "4\n",
      "save\n"
     ]
    },
    {
     "name": "stderr",
     "output_type": "stream",
     "text": [
      "/usr/lib/pymodules/python2.7/matplotlib/font_manager.py:1246: UserWarning: findfont: Could not match :family=Bitstream Vera Sans:style=normal:variant=normal:weight=normal:stretch=normal:size=11.0. Returning /usr/share/matplotlib/mpl-data/fonts/ttf/cmb10.ttf\n",
      "  UserWarning)\n"
     ]
    }
   ],
   "source": [
    "ps.run(fileout)"
   ]
  },
  {
   "cell_type": "code",
   "execution_count": null,
   "metadata": {
    "collapsed": true
   },
   "outputs": [],
   "source": []
  }
 ],
 "metadata": {
  "kernelspec": {
   "display_name": "Python 2",
   "language": "python",
   "name": "python2"
  },
  "language_info": {
   "codemirror_mode": {
    "name": "ipython",
    "version": 2
   },
   "file_extension": ".py",
   "mimetype": "text/x-python",
   "name": "python",
   "nbconvert_exporter": "python",
   "pygments_lexer": "ipython2",
   "version": "2.7.6"
  }
 },
 "nbformat": 4,
 "nbformat_minor": 0
}
