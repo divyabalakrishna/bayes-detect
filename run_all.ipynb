{
 "cells": [
  {
   "cell_type": "code",
   "execution_count": 1,
   "metadata": {
    "collapsed": true
   },
   "outputs": [],
   "source": [
    "%matplotlib inline"
   ]
  },
  {
   "cell_type": "code",
   "execution_count": 2,
   "metadata": {
    "collapsed": true
   },
   "outputs": [],
   "source": [
    "import warnings\n",
    "warnings.filterwarnings('ignore')"
   ]
  },
  {
   "cell_type": "code",
   "execution_count": 3,
   "metadata": {
    "collapsed": false
   },
   "outputs": [],
   "source": [
    "#importing all necessary packages and files\n",
    "import argparse\n",
    "from ConfigParser import SafeConfigParser\n",
    "import os\n",
    "from numpy import *\n",
    "from IPython.display import Image\n",
    "\n",
    "#image generator is used to simulate an image to sample\n",
    "import image_generator.image_generator as ig\n",
    "\n",
    "#multimodal nested sampling and self organizing map is used to sample the simulated image.\n",
    "import model_nest_som.model_nest_som as ns\n",
    "\n",
    "#finding clusters in sampled data\n",
    "import post_sampling.post_sampling as ps\n",
    "\n",
    "import timeit\n",
    "\n",
    "import matplotlib.pyplot as plt\n",
    "import matplotlib.image as mpimg\n"
   ]
  },
  {
   "cell_type": "code",
   "execution_count": 4,
   "metadata": {
    "collapsed": true
   },
   "outputs": [],
   "source": [
    "#set the prefix for the run\n",
    "prefix = 1\n"
   ]
  },
  {
   "cell_type": "code",
   "execution_count": 5,
   "metadata": {
    "collapsed": false
   },
   "outputs": [
    {
     "data": {
      "text/plain": [
       "0"
      ]
     },
     "execution_count": 5,
     "metadata": {},
     "output_type": "execute_result"
    }
   ],
   "source": [
    "#accessing the configuration file\n",
    "parser = SafeConfigParser()\n",
    "parser.read(\"config.ini\")\n",
    "\n",
    "output_dir = parser.get(\"Misc\", \"location\") + \"/\" + str(prefix)\n",
    "os.system('mkdir -p ' + output_dir)"
   ]
  },
  {
   "cell_type": "code",
   "execution_count": 6,
   "metadata": {
    "collapsed": false
   },
   "outputs": [],
   "source": [
    "#change prefix and write\n",
    "parser.set(\"Misc\",\"prefix\",str(prefix))\n",
    "\n",
    "#setting plot to false to displable plotting after every 500 iteration\n",
    "parser.set(\"Output\", \"plot\",\"False\")\n",
    "fileout = \"files\"+\"/\"+str(prefix)+\"/\"+'config'+'_'+str(prefix)+'.ini'\n",
    "F = open(fileout,'w')\n",
    "parser.write(F)\n",
    "F.close()"
   ]
  },
  {
   "cell_type": "code",
   "execution_count": 7,
   "metadata": {
    "collapsed": false
   },
   "outputs": [],
   "source": [
    "#simulating a 200*200 pixel image\n",
    "start1 = timeit.default_timer()\n",
    "ig.run(fileout)\n",
    "stop1 = timeit.default_timer()"
   ]
  },
  {
   "cell_type": "code",
   "execution_count": 8,
   "metadata": {
    "collapsed": false,
    "scrolled": false
   },
   "outputs": [
    {
     "name": "stdout",
     "output_type": "stream",
     "text": [
      "done with active\n",
      "0\n",
      "500\n",
      "1000\n",
      "1500\n",
      "2000\n",
      "2500\n",
      "3000\n",
      "3500\n",
      "4000\n",
      "4500\n",
      "5000\n",
      "5500\n",
      "6000\n",
      "6500\n",
      "7000\n",
      "7500\n",
      "8000\n",
      "8500\n",
      "9000\n",
      "9500\n",
      "10000\n",
      "10500\n",
      "11000\n",
      "11500\n",
      "12000\n",
      "12500\n",
      "13000\n",
      "13500\n",
      "14000\n",
      "14500\n",
      "15000\n",
      "15500\n",
      "16000\n",
      "16500\n",
      "17000\n",
      "17500\n",
      "18000\n",
      "18500\n",
      "19000\n",
      "19500\n",
      "20000\n",
      "20500\n",
      "21000\n",
      "21500\n",
      "22000\n",
      "22500\n",
      "23000\n",
      "23500\n",
      "24000\n",
      "24500\n",
      "25000\n",
      "25500\n",
      "26000\n",
      "26500\n",
      "27000\n",
      "27500\n",
      "28000\n",
      "28500\n",
      "29000\n",
      "29500\n",
      "30000\n",
      "30500\n",
      "31000\n",
      "31500\n",
      "32000\n",
      "32500\n",
      "33000\n",
      "33500\n",
      "34000\n",
      "34500\n",
      "35000\n",
      "35500\n",
      "36000\n",
      "36500\n",
      "37000\n",
      "37500\n",
      "38000\n",
      "38500\n",
      "39000\n",
      "39500\n",
      "40000\n",
      "121073 Log evaluations\n",
      "wrote to file: files/1/1_processed_detected.txt\n",
      "wrote to file: files/1/1_all_detected.txt\n"
     ]
    },
    {
     "data": {
      "text/plain": [
       "<matplotlib.figure.Figure at 0x7fee89c8f9d0>"
      ]
     },
     "metadata": {},
     "output_type": "display_data"
    }
   ],
   "source": [
    "#sampling the image using multimodal nested sampling and self-organizing map \n",
    "#self organizing map is used to better inform the sampler the location to sample in by identifying areas of \n",
    "#higher likelihood and increasing the probability of the samplerto cover those regions.\n",
    "\n",
    "start2 = timeit.default_timer()\n",
    "ns.run(fileout)\n",
    "stop2 = timeit.default_timer()"
   ]
  },
  {
   "cell_type": "code",
   "execution_count": 9,
   "metadata": {
    "collapsed": false,
    "scrolled": true
   },
   "outputs": [
    {
     "data": {
      "image/png": "[encoded data removed]",
      "text/plain": [
       "<matplotlib.figure.Figure at 0x7fee89c7ded0>"
      ]
     },
     "metadata": {},
     "output_type": "display_data"
    },
    {
     "name": "stdout",
     "output_type": "stream",
     "text": [
      "TP:  7 FP:  1 Undetected:  3\n"
     ]
    }
   ],
   "source": [
    "#working with the sampled data to fetch objects\n",
    "#clustering methods are used to identify sources of high likehood.\n",
    "start3 = timeit.default_timer()\n",
    "plt = ps.run(fileout)\n",
    "\n",
    "stop3 = timeit.default_timer()"
   ]
  },
  {
   "cell_type": "code",
   "execution_count": 10,
   "metadata": {
    "collapsed": false
   },
   "outputs": [
    {
     "name": "stdout",
     "output_type": "stream",
     "text": [
      "Time taken 509.831403017 seconds\n"
     ]
    }
   ],
   "source": [
    "#calculating the overall time taken\n",
    "print \"Time taken\", (stop1 - start1) + (stop2 - start2) + (stop3 - start3), 'seconds'"
   ]
  },
  {
   "cell_type": "code",
   "execution_count": null,
   "metadata": {
    "collapsed": true
   },
   "outputs": [],
   "source": []
  }
 ],
 "metadata": {
  "kernelspec": {
   "display_name": "Python 2",
   "language": "python",
   "name": "python2"
  },
  "language_info": {
   "codemirror_mode": {
    "name": "ipython",
    "version": 2
   },
   "file_extension": ".py",
   "mimetype": "text/x-python",
   "name": "python",
   "nbconvert_exporter": "python",
   "pygments_lexer": "ipython2",
   "version": "2.7.6"
  }
 },
 "nbformat": 4,
 "nbformat_minor": 0
}
