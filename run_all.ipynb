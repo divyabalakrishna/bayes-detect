{
 "cells": [
  {
   "cell_type": "code",
   "execution_count": 1,
   "metadata": {
    "collapsed": false
   },
   "outputs": [],
   "source": [
    "import argparse\n",
    "from ConfigParser import SafeConfigParser\n",
    "import os\n",
    "from numpy import *\n",
    "import image_generator.image_generator as ig\n",
    "import model_nest_som.model_nest_som as ns\n",
    "import post_sampling.post_sampling as ps\n",
    "import timeit"
   ]
  },
  {
   "cell_type": "code",
   "execution_count": 2,
   "metadata": {
    "collapsed": true
   },
   "outputs": [],
   "source": [
    "start = timeit.default_timer()\n",
    "newprefix = 4\n"
   ]
  },
  {
   "cell_type": "code",
   "execution_count": 5,
   "metadata": {
    "collapsed": false
   },
   "outputs": [
    {
     "name": "stdout",
     "output_type": "stream",
     "text": [
      "files/4\n"
     ]
    },
    {
     "data": {
      "text/plain": [
       "0"
      ]
     },
     "execution_count": 5,
     "metadata": {},
     "output_type": "execute_result"
    }
   ],
   "source": [
    "#read config.ini template\n",
    "parser = SafeConfigParser()\n",
    "#todo: do something about not using the relative path\n",
    "parser.read(\"config.ini\")\n",
    "\n",
    "#image parameters\n",
    "width = int(parser.get(\"Image\",\"width\"))\n",
    "height = int(parser.get(\"Image\",\"height\"))\n",
    "noise_lvl = float(parser.get(\"Image\", \"noise\"))\n",
    "amp_min = float(parser.get(\"Image\", \"amp_min\"))\n",
    "amp_max = float(parser.get(\"Image\", \"amp_max\"))\n",
    "\n",
    "rad_min = float(parser.get(\"Image\", \"rad_min\"))\n",
    "rad_max = float(parser.get(\"Image\", \"rad_max\"))\n",
    "num_sources = int(parser.get(\"Image\", \"num_items\"))\n",
    "noise = float(parser.get(\"Image\", \"noise\"))\n",
    "\n",
    "prefix = newprefix\n",
    "output_dir = parser.get(\"Misc\", \"location\") + \"/\" + str(prefix)\n",
    "print output_dir\n",
    "os.system('mkdir -p ' + output_dir)\n",
    "\n"
   ]
  },
  {
   "cell_type": "code",
   "execution_count": 6,
   "metadata": {
    "collapsed": false
   },
   "outputs": [],
   "source": [
    "#change prefix and write\n",
    "parser.set(\"Misc\",\"prefix\",str(newprefix))\n",
    "fileout=\"files\"+\"/\"+str(newprefix)+\"/\"+'config'+'_'+str(newprefix)+'.ini'\n",
    "#fileout='config'+'_'+str(newprefix)+'.ini'\n",
    "F=open(fileout,'w')\n",
    "parser.write(F)\n",
    "F.close()"
   ]
  },
  {
   "cell_type": "code",
   "execution_count": 15,
   "metadata": {
    "collapsed": false
   },
   "outputs": [
    {
     "name": "stdout",
     "output_type": "stream",
     "text": [
      "files/4\n"
     ]
    }
   ],
   "source": [
    "ig.run(fileout)"
   ]
  },
  {
   "cell_type": "code",
   "execution_count": 6,
   "metadata": {
    "collapsed": false,
    "scrolled": false
   },
   "outputs": [
    {
     "name": "stdout",
     "output_type": "stream",
     "text": [
      "done with active\n",
      "0 50001 1 1\n",
      "500 50001 1 1\n",
      "1000 50001 1 1\n",
      "1500 50001 1 1\n",
      "2000 50001 1 1\n",
      "2500 50001 1 1\n",
      "3000 50001 1 1\n",
      "3500 50001 1 1\n",
      "4000 50001 1 1\n",
      "4500 50001 1 1\n",
      "5000 50001 1 1\n",
      "5500 50001 1 1\n",
      "6000 50001 1 1\n",
      "6500 50001 1 1\n",
      "7000 50001 1 1\n",
      "7500 50001 1 1\n",
      "8000 50001 1 1\n",
      "8500 50001 1 1\n",
      "9000 50001 1 1\n",
      "9500 50001 1 1\n",
      "10000 50001 1 1\n",
      "10500 50001 1 1\n",
      "11000 50001 1 1\n",
      "11500 50001 1 1\n",
      "12000 50001 1 1\n",
      "12500 50001 1 1\n",
      "13000 50001 1 1\n",
      "13500 50001 1 1\n",
      "14000 50001 1 1\n",
      "14500 50001 1 1\n",
      "15000 50001 1 1\n",
      "15500 50001 1 1\n",
      "16000 50001 1 1\n",
      "16500 50001 1 1\n",
      "17000 50001 1 1\n",
      "17500 50001 1 1\n",
      "18000 50001 1 1\n",
      "18500 50001 1 1\n",
      "19000 50001 1 1\n",
      "19500 50001 1 1\n",
      "20000 50001 1 1\n",
      "20500 50001 2 2\n",
      "21000 50001 3 3\n",
      "21500 50001 5 5\n",
      "22000 50001 6 6\n",
      "22500 50001 7 7\n",
      "23000 50001 7 7\n",
      "23500 50001 7 7\n",
      "24000 50001 7 7\n",
      "24500 50001 7 7\n",
      "25000 50001 7 7\n",
      "25500 50001 6 7\n",
      "76328 Log evaluations\n",
      "wrote to file: files/3/3_processed_detected.txt\n",
      "wrote to file: files/3/3_all_detected.txt\n"
     ]
    },
    {
     "name": "stderr",
     "output_type": "stream",
     "text": [
      "/usr/lib/pymodules/python2.7/matplotlib/cbook.py:122: MatplotlibDeprecationWarning: The normal aspect was deprecated in version 1.2. Use auto instead.\n",
      "  warnings.warn(message, mplDeprecation, stacklevel=1)\n",
      "/usr/lib/pymodules/python2.7/matplotlib/font_manager.py:1236: UserWarning: findfont: Font family ['sans-serif'] not found. Falling back to Bitstream Vera Sans\n",
      "  (prop.get_family(), self.defaultFamily[fontext]))\n",
      "/usr/lib/pymodules/python2.7/matplotlib/font_manager.py:1246: UserWarning: findfont: Could not match :family=Bitstream Vera Sans:style=normal:variant=normal:weight=normal:stretch=normal:size=12.0. Returning /usr/share/matplotlib/mpl-data/fonts/ttf/cmb10.ttf\n",
      "  UserWarning)\n",
      "/usr/lib/pymodules/python2.7/matplotlib/font_manager.py:1246: UserWarning: findfont: Could not match :family=Bitstream Vera Sans:style=normal:variant=normal:weight=normal:stretch=normal:size=10.0. Returning /usr/share/matplotlib/mpl-data/fonts/ttf/cmb10.ttf\n",
      "  UserWarning)\n"
     ]
    }
   ],
   "source": [
    "ns.run(fileout)\n"
   ]
  },
  {
   "cell_type": "code",
   "execution_count": 7,
   "metadata": {
    "collapsed": false,
    "scrolled": true
   },
   "outputs": [
    {
     "name": "stdout",
     "output_type": "stream",
     "text": [
      "1\n",
      "2\n",
      "3\n",
      "4\n",
      "save\n"
     ]
    },
    {
     "name": "stderr",
     "output_type": "stream",
     "text": [
      "/usr/lib/pymodules/python2.7/matplotlib/font_manager.py:1246: UserWarning: findfont: Could not match :family=Bitstream Vera Sans:style=normal:variant=normal:weight=normal:stretch=normal:size=11.0. Returning /usr/share/matplotlib/mpl-data/fonts/ttf/cmb10.ttf\n",
      "  UserWarning)\n"
     ]
    }
   ],
   "source": [
    "ps.run(fileout)"
   ]
  },
  {
   "cell_type": "code",
   "execution_count": 8,
   "metadata": {
    "collapsed": false
   },
   "outputs": [
    {
     "name": "stdout",
     "output_type": "stream",
     "text": [
      "444.91250205 seconds\n"
     ]
    }
   ],
   "source": [
    "stop = timeit.default_timer()\n",
    "print stop - start, 'seconds'"
   ]
  },
  {
   "cell_type": "code",
   "execution_count": null,
   "metadata": {
    "collapsed": true
   },
   "outputs": [],
   "source": []
  }
 ],
 "metadata": {
  "kernelspec": {
   "display_name": "Python 2",
   "language": "python",
   "name": "python2"
  },
  "language_info": {
   "codemirror_mode": {
    "name": "ipython",
    "version": 2
   },
   "file_extension": ".py",
   "mimetype": "text/x-python",
   "name": "python",
   "nbconvert_exporter": "python",
   "pygments_lexer": "ipython2",
   "version": "2.7.6"
  }
 },
 "nbformat": 4,
 "nbformat_minor": 0
}
